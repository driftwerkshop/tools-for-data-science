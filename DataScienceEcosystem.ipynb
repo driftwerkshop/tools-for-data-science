{
 "cells": [
  {
   "cell_type": "markdown",
   "id": "8913e6b2-a00a-44e8-b0ec-3dad37f1b895",
   "metadata": {},
   "source": [
    "<h1>Data Science Tools and Ecosystem</h1>"
   ]
  },
  {
   "cell_type": "markdown",
   "id": "8b3dcb79-e768-42f5-ac71-98dc5a6da9c3",
   "metadata": {},
   "source": [
    "In this notebook, Data Science Tools and Ecosystem are summarized."
   ]
  },
  {
   "cell_type": "markdown",
   "id": "5e4dd0e3-54ca-4e08-9e79-91818a124d18",
   "metadata": {
    "tags": []
   },
   "source": [
    "**Objectives:**\n",
    "\n",
    "- List popular languages for Data Science\n",
    "- Mathematical Expressions in Python\n",
    "- Markdown Language"
   ]
  },
  {
   "cell_type": "markdown",
   "id": "cd77e63c-23ef-4032-8439-91446e5c16af",
   "metadata": {},
   "source": [
    "Some of the popular languages that Data Scientists use are:\n",
    "1. SQL\n",
    "2. Python\n",
    "3. R\n",
    "4. Scala"
   ]
  },
  {
   "cell_type": "markdown",
   "id": "ba397f59-ff2e-4b66-8ba0-808b81da7ec6",
   "metadata": {
    "tags": []
   },
   "source": [
    "Some of the commonly used libraries used by Data Scientists include:\n",
    "1. Pandas\n",
    "2. Scikitlearn\n",
    "3. ggplot\n",
    "4. seaborn\n",
    "5. tensorflow\n"
   ]
  },
  {
   "cell_type": "markdown",
   "id": "b79287c2-7906-46b6-8ba1-15f44892392f",
   "metadata": {},
   "source": [
    "Some Data Science tools\n",
    "| Data Science Tools       |\n",
    "|--------------------------|\n",
    "| Jupyter Notebook          |\n",
    "| RStudio                   |\n",
    "| Apache Zeppelin           |\n"
   ]
  },
  {
   "cell_type": "markdown",
   "id": "e1a7294a-f5d3-4ad2-9bc7-9d8f217b6402",
   "metadata": {},
   "source": [
    "<h3>Below are a few examples of evaluating arithmetic expressions in Python</h3>\n",
    "\n",
    "addition\n",
    "a = 5 + 3  (Result: 8)\n",
    "\n",
    "subtraction\n",
    "b = 10 - 4  (Result: 6)\n",
    "\n",
    "multiplication\n",
    "c = 7 * 6  (Result: 42)\n",
    "\n",
    "floating-point division\n",
    "d = 15 / 3  (Result: 5.0)\n"
   ]
  },
  {
   "cell_type": "code",
   "execution_count": 2,
   "id": "7abb9735-1b46-4fe2-bd7a-fe7d698adac9",
   "metadata": {
    "tags": []
   },
   "outputs": [
    {
     "data": {
      "text/plain": [
       "17"
      ]
     },
     "execution_count": 2,
     "metadata": {},
     "output_type": "execute_result"
    }
   ],
   "source": [
    "#This is a simple arithmetic expression to mutiply then add integers\n",
    "\n",
    "(3*4)+5"
   ]
  },
  {
   "cell_type": "code",
   "execution_count": 5,
   "id": "1b135699-d36e-4265-b2ef-18319a1426f1",
   "metadata": {
    "tags": []
   },
   "outputs": [
    {
     "name": "stdout",
     "output_type": "stream",
     "text": [
      "3.3333333333333335\n"
     ]
    }
   ],
   "source": [
    "#This will convert 200 minutes to hours by diving by 60\n",
    "\n",
    "hours = 200 / 60\n",
    "\n",
    "print (hours)"
   ]
  },
  {
   "cell_type": "markdown",
   "id": "2975a835-bf5b-49cb-ba39-6260e9a49aa8",
   "metadata": {
    "tags": []
   },
   "source": [
    "<H2>Author</H2>\n",
    "Walter (Lee) Duncan"
   ]
  },
  {
   "cell_type": "code",
   "execution_count": null,
   "id": "0383d0a0-fc26-49a6-96f4-f933dfca5aff",
   "metadata": {},
   "outputs": [],
   "source": []
  }
 ],
 "metadata": {
  "kernelspec": {
   "display_name": "Python",
   "language": "python",
   "name": "conda-env-python-py"
  },
  "language_info": {
   "codemirror_mode": {
    "name": "ipython",
    "version": 3
   },
   "file_extension": ".py",
   "mimetype": "text/x-python",
   "name": "python",
   "nbconvert_exporter": "python",
   "pygments_lexer": "ipython3",
   "version": "3.7.12"
  }
 },
 "nbformat": 4,
 "nbformat_minor": 5
}
